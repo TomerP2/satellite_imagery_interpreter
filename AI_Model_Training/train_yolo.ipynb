{
 "cells": [
  {
   "cell_type": "markdown",
   "metadata": {},
   "source": [
    "# Train a custom YOLO model"
   ]
  },
  {
   "cell_type": "markdown",
   "metadata": {},
   "source": [
    "### Install Packages"
   ]
  },
  {
   "cell_type": "code",
   "execution_count": null,
   "metadata": {},
   "outputs": [],
   "source": [
    "# %pip install roboflow\n",
    "# %pip install utralytics\n",
    "# %pip install python-dotenv"
   ]
  },
  {
   "cell_type": "markdown",
   "metadata": {},
   "source": [
    "### Import Packages"
   ]
  },
  {
   "cell_type": "code",
   "execution_count": 1,
   "metadata": {},
   "outputs": [],
   "source": [
    "from roboflow import Roboflow\n",
    "from ultralytics import YOLO\n",
    "from dotenv import load_dotenv\n",
    "from pathlib import Path\n",
    "import torch\n",
    "\n",
    "import os"
   ]
  },
  {
   "cell_type": "code",
   "execution_count": 2,
   "metadata": {},
   "outputs": [],
   "source": [
    "# Load enviroment variables\n",
    "dotenv_path = Path.cwd().parent / \".env\"\n",
    "load_dotenv(dotenv_path)\n",
    "\n",
    "ROBOFLOW_API = os.getenv(\"ROBOFLOW_API\")\n",
    "if not ROBOFLOW_API:\n",
    "    raise ValueError(\"No roboflow API found in .env\")\n",
    "\n",
    "cwd = Path.cwd()\n",
    "project_dir = Path.cwd().parent"
   ]
  },
  {
   "cell_type": "markdown",
   "metadata": {
    "nteract": {
     "transient": {
      "deleting": false
     }
    }
   },
   "source": [
    "## 1. Import training dataset from roboflow"
   ]
  },
  {
   "cell_type": "code",
   "execution_count": 3,
   "metadata": {
    "gather": {
     "logged": 1716810759922
    }
   },
   "outputs": [
    {
     "name": "stdout",
     "output_type": "stream",
     "text": [
      "loading Roboflow workspace...\n",
      "loading Roboflow project...\n"
     ]
    }
   ],
   "source": [
    "rf_workspace = \"test-vlslb\"\n",
    "rf_project = \"car-owtrd-2we06\"\n",
    "rf_project_version = 1\n",
    "\n",
    "rf = Roboflow(api_key=ROBOFLOW_API) #Place download code from roboflow\n",
    "project = rf.workspace(rf_workspace).project(rf_project)\n",
    "version = project.version(rf_project_version)\n",
    "\n",
    "dataset_path = cwd / \"model_training_data\" / \"training_data_00\"\n",
    "overwrite_dataset = False\n",
    "dataset = version.download(\"yolov12\", dataset_path, overwrite_dataset)"
   ]
  },
  {
   "cell_type": "markdown",
   "metadata": {
    "nteract": {
     "transient": {
      "deleting": false
     }
    }
   },
   "source": [
    "## 2. Train the model"
   ]
  },
  {
   "cell_type": "markdown",
   "metadata": {},
   "source": [
    "Batch size info:\n",
    "\n",
    "| Batch size | GPU Usage |\n",
    "|------------|-----------|\n",
    "| 5          | >8GB      |"
   ]
  },
  {
   "cell_type": "code",
   "execution_count": 8,
   "metadata": {
    "collapsed": false,
    "gather": {
     "logged": 1716897749287
    },
    "jupyter": {
     "outputs_hidden": false,
     "source_hidden": false
    },
    "nteract": {
     "transient": {
      "deleting": false
     }
    }
   },
   "outputs": [
    {
     "name": "stdout",
     "output_type": "stream",
     "text": [
      "YOLOv12x summary: 488 layers, 59,216,928 parameters, 0 gradients, 200.3 GFLOPs\n",
      "(488, 59216928, 0, 200.3276288)\n"
     ]
    }
   ],
   "source": [
    "torch.cuda.empty_cache()\n",
    "\n",
    "#define the model based on existing Yolo model (in this case the segmentation model)\n",
    "models_path = cwd / \"models\"\n",
    "pretrained_model_path =  models_path / \"yolo12x.pt\"\n",
    "new_model_path = models_path / \"00_trained_model\"\n",
    "model = YOLO(pretrained_model_path)\n",
    "print(model.info())\n",
    "\n",
    "#define variables\n",
    "dataset = dataset_path / \"data.yaml\"\n",
    "epoch_size = 30\n",
    "image_size = 640\n",
    "batch_size = 5\n",
    "\n",
    "#train the model based on the labeled data from Roboflow\n",
    "# model.train(data=dataset ,  epochs=epoch_size, batch=batch_size, imgsz=image_size, project=new_model_path)\n",
    "best_model = YOLO(new_model_path / \"train2\" / \"weights\" / \"best.pt\")"
   ]
  },
  {
   "cell_type": "markdown",
   "metadata": {
    "nteract": {
     "transient": {
      "deleting": false
     }
    }
   },
   "source": [
    "## 3. Validate the model"
   ]
  },
  {
   "cell_type": "code",
   "execution_count": 10,
   "metadata": {
    "collapsed": false,
    "gather": {
     "logged": 1716897841909
    },
    "jupyter": {
     "outputs_hidden": false,
     "source_hidden": false
    },
    "nteract": {
     "transient": {
      "deleting": false
     }
    }
   },
   "outputs": [
    {
     "name": "stdout",
     "output_type": "stream",
     "text": [
      "Ultralytics 8.3.199  Python-3.13.0 torch-2.6.0+cu126 CUDA:0 (NVIDIA GeForce RTX 4070 Laptop GPU, 8188MiB)\n",
      "\u001b[34m\u001b[1mval: \u001b[0mFast image access  (ping: 0.20.0 ms, read: 1115.6383.3 MB/s, size: 538.1 KB)\n",
      "\u001b[K\u001b[34m\u001b[1mval: \u001b[0mScanning C:\\Users\\tomer\\OneDrive\\Home\\Projects\\Personal\\satellite_imagery_interpreter\\AI_Model_Training\\model_training_data\\training_data_00\\valid\\labels.cache... 22 images, 0 backgrounds, 0 corrupt: 100% ━━━━━━━━━━━━ 22/22 31.6Kit/s 0.0s\n",
      "\u001b[K                 Class     Images  Instances      Box(P          R      mAP50  mAP50-95): 100% ━━━━━━━━━━━━ 2/2 0.5it/s 4.1s12.3s\n",
      "                   all         22        471      0.968      0.979      0.993      0.729\n",
      "Speed: 0.3ms preprocess, 57.3ms inference, 0.0ms loss, 1.7ms postprocess per image\n",
      "Results saved to \u001b[1mC:\\Users\\tomer\\OneDrive\\Home\\Projects\\Personal\\satellite_imagery_interpreter\\AI_Model_Training\\runs\\detect\\val3\u001b[0m\n"
     ]
    },
    {
     "data": {
      "text/plain": [
       "array([    0.72852])"
      ]
     },
     "execution_count": 10,
     "metadata": {},
     "output_type": "execute_result"
    }
   ],
   "source": [
    "# Show performance metrics\n",
    "metrics = best_model.val()  # no arguments needed, dataset and settings remembered\n",
    "metrics.box.map  # map50-95(B)\n",
    "metrics.box.map50  # map50(B)\n",
    "metrics.box.map75  # map75(B)\n",
    "metrics.box.maps  # a list contains map50-95(B) of each category"
   ]
  }
 ],
 "metadata": {
  "kernel_info": {
   "name": "yolov8env"
  },
  "kernelspec": {
   "display_name": "satteliet_project",
   "language": "python",
   "name": "python3"
  },
  "language_info": {
   "codemirror_mode": {
    "name": "ipython",
    "version": 3
   },
   "file_extension": ".py",
   "mimetype": "text/x-python",
   "name": "python",
   "nbconvert_exporter": "python",
   "pygments_lexer": "ipython3",
   "version": "3.13.0"
  },
  "microsoft": {
   "host": {
    "AzureML": {
     "notebookHasBeenCompleted": true
    }
   },
   "ms_spell_check": {
    "ms_spell_check_language": "en"
   }
  },
  "nteract": {
   "version": "nteract-front-end@1.0.0"
  }
 },
 "nbformat": 4,
 "nbformat_minor": 4
}
